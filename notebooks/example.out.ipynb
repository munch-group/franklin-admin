{
  "cells": [
    {
      "cell_type": "markdown",
      "metadata": {},
      "source": [
        "# Workplace interaction\n",
        "\n",
        "Import some plotting libraries and set some defaults:"
      ],
      "id": "e6752818-be70-4caa-9474-96aeb3ee86ed"
    },
    {
      "cell_type": "code",
      "execution_count": 2,
      "metadata": {},
      "outputs": [],
      "source": [
        "import sys\n",
        "import numpy as np\n",
        "import pandas as pd\n",
        "from IPython.display import display, Markdown\n",
        "import matplotlib.pyplot as plt\n",
        "import seaborn as sns\n",
        "sns.set()\n",
        "\n",
        "sns.set_context(context='paper', font_scale=0.8, rc=None)\n",
        "# sns.set_context(context='notebook', font_scale=1, rc=None)\n",
        "\n",
        "sns.set_style(\"ticks\", {\"axes.spines.top\": False, \n",
        "                        \"axes.spines.right\": False,\n",
        "                       \"legend.edgecolor\": 'white'})\n",
        "import random\n",
        "random_seed = 5\n",
        "\n",
        "sys.path.append('..')\n",
        "from global_params import load_params"
      ],
      "id": "cell-3"
    },
    {
      "cell_type": "code",
      "execution_count": 3,
      "metadata": {},
      "outputs": [
        {
          "output_type": "display_data",
          "metadata": {},
          "data": {
            "text/html": [
              "<style> table { font-variant-numeric: tabular-nums; } </style>"
            ]
          }
        }
      ],
      "source": [
        "%%html\n",
        "<style> table { font-variant-numeric: tabular-nums; } </style>"
      ],
      "id": "cell-4"
    },
    {
      "cell_type": "markdown",
      "metadata": {},
      "source": [
        "> **Tip:**  \n",
        "> Producing figures in svg format (scalable vector graphics) makes for\n",
        "> sharp plots on webpages. However, if you make plots with thousands of\n",
        "> observations you should set this to `'png'` instead:"
      ],
      "id": "b0046107-7c98-4495-b56e-d3c34843d16c"
    },
    {
      "cell_type": "code",
      "execution_count": 4,
      "metadata": {},
      "outputs": [],
      "source": [
        "%config InlineBackend.figure_formats = ['retina'] "
      ],
      "id": "cell-6"
    },
    {
      "cell_type": "markdown",
      "metadata": {},
      "source": [
        "> **Tip:**  \n",
        "> Some values apply globally to your analysis. E.g., sample sizes,\n",
        "> cutoffs, names, rates, etc. Keeping those in a a yml file like\n",
        "> `interaction_params.yml` and loading them in each notebook avoids the\n",
        "> risk of manually adding/updating them in each notebook where they are\n",
        "> used. You can use the `load_globals` function imported above from\n",
        "> `global_params.py` to produce an object holding all the global values:"
      ],
      "id": "66a92074-83b8-4911-a7e9-0afbb4012ac7"
    },
    {
      "cell_type": "code",
      "execution_count": 5,
      "metadata": {},
      "outputs": [
        {
          "output_type": "display_data",
          "metadata": {},
          "data": {
            "text/plain": [
              "{'sample_size': 24}"
            ]
          }
        }
      ],
      "source": [
        "params = load_params('../global_params.yml')\n",
        "params"
      ],
      "id": "cell-8"
    },
    {
      "cell_type": "code",
      "execution_count": 6,
      "metadata": {},
      "outputs": [
        {
          "output_type": "display_data",
          "metadata": {},
          "data": {
            "text/plain": [
              "24"
            ]
          }
        }
      ],
      "source": [
        "params.sample_size"
      ],
      "id": "cell-9"
    },
    {
      "cell_type": "markdown",
      "metadata": {},
      "source": [
        "## Sampling"
      ],
      "id": "4327ee54-4b90-446b-afea-70042f45c88d"
    },
    {
      "cell_type": "code",
      "execution_count": 7,
      "metadata": {},
      "outputs": [
        {
          "output_type": "display_data",
          "metadata": {},
          "data": {
            "text/html": [
              "\n",
              "</div>"
            ]
          }
        }
      ],
      "source": [
        "subjects = pd.read_csv('../data/data_table.csv')\n",
        "assert subjects.index.size == params.sample_size\n",
        "subjects"
      ],
      "id": "cell-11"
    },
    {
      "cell_type": "markdown",
      "metadata": {},
      "source": [
        "> **Tip:**  \n",
        "> By adding a label and caption to a cell displaying a table, you can\n",
        "> refer to that table elsewhere and insert it in a manuscript."
      ],
      "id": "430c6640-bcb6-4206-9f71-397f85b3ede9"
    },
    {
      "cell_type": "code",
      "execution_count": 8,
      "metadata": {},
      "outputs": [],
      "source": [
        "# with pd.option_context('display.max_rows', None,): # prints *all* rows\n",
        "#     display(subjects.style.hide()) # .style.hide() hides the index)\n",
        "subjects.style.hide()"
      ],
      "id": "0f2ad631-4660-4c39-975e-ee907b019cd6"
    },
    {
      "cell_type": "markdown",
      "metadata": {},
      "source": [
        "> **Tip:**  \n",
        "> By generaing markdown for descriptions that will eventually end up in\n",
        "> the manuscript, you can imbed python values. It also ensures that the\n",
        "> manuscript exactly reflects the notebook."
      ],
      "id": "f4a6afb6-757b-4c12-9202-ee1226aebddc"
    },
    {
      "cell_type": "code",
      "execution_count": 10,
      "metadata": {},
      "outputs": [],
      "source": [],
      "id": "cell-doc-sampling"
    },
    {
      "cell_type": "markdown",
      "metadata": {},
      "source": [
        "## Interviews\n",
        "\n",
        "In interviewed `{python} params.sample_size` workplace individuals were\n",
        "interviewed by …. blah, blah, blah, blah, blah, blah, blah, blah, blah,\n",
        "blah, blah, blah, blah, blah, blah, blah, blah, blah, blah, blah, blah,\n",
        "blah, blah, blah, blah, blah, blah, blah,"
      ],
      "id": "d09bf23a-d16e-410f-8103-178e91faa73f"
    },
    {
      "cell_type": "code",
      "execution_count": 11,
      "metadata": {},
      "outputs": [
        {
          "output_type": "display_data",
          "metadata": {},
          "data": {
            "text/html": [
              "\n",
              "</div>"
            ]
          }
        }
      ],
      "source": [
        "# generate some random sample data\n",
        "scores = pd.DataFrame({\n",
        "    'name': subjects.name, \n",
        "    'informality': np.random.normal(loc=10, scale=1, size=params.sample_size)\n",
        "})\n",
        "data = pd.merge(subjects, scores, on='name')\n",
        "data\n"
      ],
      "id": "cell-19"
    },
    {
      "cell_type": "code",
      "execution_count": 12,
      "metadata": {},
      "outputs": [
        {
          "output_type": "display_data",
          "metadata": {},
          "data": {}
        }
      ],
      "source": [
        "plt.figure(figsize=(4,3))\n",
        "sns.scatterplot(x='age', y='informality', data=data, hue='position', palette='viridis')\n",
        "plt.ylabel('How informal you can be')\n",
        "plt.xlabel('Age')\n",
        "plt.legend(title='Seniority', loc='lower right')\n",
        "plt.ylim(bottom=0) ;"
      ],
      "id": "cell-fig-danishinteraction"
    },
    {
      "cell_type": "markdown",
      "metadata": {},
      "source": [
        "or plotted differently:"
      ],
      "id": "60743459-0c54-4118-99cf-2b9b5950a718"
    },
    {
      "cell_type": "code",
      "execution_count": 13,
      "metadata": {},
      "outputs": [],
      "source": [
        "#plt.figure(figsize=(4,3))\n",
        "g = sns.FacetGrid(data=data, col=\"nationality\",hue=\"position\", palette='viridis', aspect=0.9)\n",
        "g.map(sns.scatterplot, 'age', 'informality')\n",
        "#sns.scatterplot(x='age', y='informality', data=data, hue='position', palette='viridis')\n",
        "plt.ylabel('How informal you can be')\n",
        "plt.xlabel('Age')\n",
        "plt.legend(title='Seniority', loc='lower right') ;"
      ],
      "id": "cell-fig-danishinteractionfacets"
    },
    {
      "cell_type": "markdown",
      "metadata": {},
      "source": [
        "Seems Danish people act very informally unaffected by age and seniority."
      ],
      "id": "e09db928-a5d6-40ea-a039-fc6f5e175c44"
    },
    {
      "cell_type": "code",
      "execution_count": 14,
      "metadata": {},
      "outputs": [
        {
          "output_type": "display_data",
          "metadata": {},
          "data": {
            "text/plain": [
              "0.0502201862207874"
            ]
          }
        }
      ],
      "source": [
        "informality_age_cor = data.informality.corr(data.age)\n",
        "informality_age_cor"
      ],
      "id": "cell-24"
    },
    {
      "cell_type": "code",
      "execution_count": 31,
      "metadata": {},
      "outputs": [],
      "source": [
        "mean_informality = data.groupby(['position', 'nationality']).informality.mean().to_frame().reset_index()\n",
        "mean_informality = mean_informality.sort_values('informality')#.style.hide() # hide index"
      ],
      "id": "cell-25"
    },
    {
      "cell_type": "markdown",
      "metadata": {},
      "source": [
        "To show the `mean_informality` table, in a way that allow you to cite\n",
        "and embed it elsewhere, you need to provide a label, and preferably a\n",
        "caption, for it, as shown below. For this use, you also need to use the\n",
        "display function:"
      ],
      "id": "5d497c1b-61b3-44a6-922f-eb4847013c33"
    },
    {
      "cell_type": "code",
      "execution_count": 32,
      "metadata": {},
      "outputs": [],
      "source": [
        "display(mean_informality)"
      ],
      "id": "71eb2d79-b9d1-4ba4-a9da-7e32e4f70ebe"
    },
    {
      "cell_type": "markdown",
      "metadata": {},
      "source": [
        "> **Tip:** To render a nice table without the index column, you can do\n",
        "> this to the `display` function instead:\n",
        "> `Markdown(df.to_markdown(index=False))`\n",
        "\n",
        "> The table above shows the mean informality scores by"
      ],
      "id": "9982e7f7-2550-4329-a395-f7eed051ec7a"
    },
    {
      "cell_type": "code",
      "execution_count": 34,
      "metadata": {},
      "outputs": [
        {
          "output_type": "display_data",
          "metadata": {},
          "data": {}
        }
      ],
      "source": [],
      "id": "cell-fig-meaninformality"
    },
    {
      "cell_type": "code",
      "execution_count": 35,
      "metadata": {},
      "outputs": [],
      "source": [],
      "id": "cell-doc-formality-correlation"
    },
    {
      "cell_type": "code",
      "execution_count": 36,
      "metadata": {},
      "outputs": [
        {
          "output_type": "display_data",
          "metadata": {},
          "data": {}
        }
      ],
      "source": [
        "sns.lmplot(x='age', y='informality', data=data, hue='position', palette='viridis', height=3, aspect=4/3)\n",
        "plt.ylabel('How informal you can be')\n",
        "plt.xlabel('Age') ;"
      ],
      "id": "cell-fig-danish-interaction-regressions"
    }
  ],
  "nbformat": 4,
  "nbformat_minor": 5,
  "metadata": {
    "kernelspec": {
      "name": "python3",
      "display_name": "condabuild",
      "language": "python"
    },
    "language_info": {
      "name": "python",
      "codemirror_mode": {
        "name": "ipython",
        "version": "3"
      },
      "file_extension": ".py",
      "mimetype": "text/x-python",
      "nbconvert_exporter": "python",
      "pygments_lexer": "ipython3",
      "version": "3.12.2"
    },
    "widgets": {
      "application/vnd.jupyter.widget-state+json": {
        "state": {},
        "version_major": 2,
        "version_minor": 0
      }
    }
  }
}